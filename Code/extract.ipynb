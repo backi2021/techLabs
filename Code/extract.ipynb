{
 "cells": [
  {
   "cell_type": "code",
   "execution_count": null,
   "metadata": {},
   "outputs": [],
   "source": [
    "import pandas as pd\n",
    "import openpyxl"
   ]
  },
  {
   "cell_type": "code",
   "execution_count": null,
   "metadata": {},
   "outputs": [],
   "source": [
    "df = pd.read_csv(\"/Users/tatjanawasikanon/Desktop/techlabs/Aktuell_Deutschland_SarsCov2_Infektionen.csv\")\n",
    "\n",
    "\n",
    "#display(df)\n",
    "\n",
    "result_ds = df[df['IdLandkreis'] == 5111]\n",
    "\n",
    "output_file_path = \"/Users/tatjanawasikanon/Desktop/techlabs/duesseldorf_corona.xlsx\"\n",
    "\n",
    "result_ds.to_excel(output_file_path, index=False)\n",
    "\n",
    "display(result_ds)\n"
   ]
  }
 ],
 "metadata": {
  "language_info": {
   "name": "python"
  },
  "orig_nbformat": 4
 },
 "nbformat": 4,
 "nbformat_minor": 2
}
