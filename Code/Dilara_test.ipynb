{
 "cells": [
  {
   "cell_type": "code",
   "execution_count": null,
   "metadata": {},
   "outputs": [],
   "source": [
    "import pandas as pd\n",
    "import openpyxl "
   ]
  },
  {
   "cell_type": "code",
   "execution_count": null,
   "metadata": {},
   "outputs": [],
   "source": [
    "# code that had be used for extracting the data for Corona Düsseldorf numbers\n",
    "\n",
    "#df = pd.read_csv(\"/Users/tatjanawasikanon/Desktop/techlabs/Aktuell_Deutschland_SarsCov2_Infektionen.csv\")\n",
    "\n",
    "\n",
    "#display(df)"
   ]
  }
 ],
 "metadata": {
  "language_info": {
   "name": "python"
  }
 },
 "nbformat": 4,
 "nbformat_minor": 2
}
