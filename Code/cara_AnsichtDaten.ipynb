{
 "cells": [
  {
   "cell_type": "code",
   "execution_count": 7,
   "metadata": {},
   "outputs": [
    {
     "name": "stderr",
     "output_type": "stream",
     "text": [
      "/var/folders/pl/4hv3k75x16l4274btx10gcsc0000gn/T/ipykernel_3024/1297798121.py:2: DtypeWarning: Columns (2,3,8,9,11,13,14,15,18,20) have mixed types. Specify dtype option on import or set low_memory=False.\n",
      "  df = pd.read_csv(\"/Users/carareusch/Desktop/Github Repro/techLabs/Datasets/Raw/AirQuality/Sulphur Dioxide/2010-2019 Schwefeldioxid NRW Stundenmittelwert.csv\", encoding=\"ISO-8859-1\", sep=';', skiprows=2)\n"
     ]
    }
   ],
   "source": [
    "import pandas as pd\n",
    "df = pd.read_csv(\"/Users/carareusch/Desktop/Github Repro/techLabs/Datasets/Raw/AirQuality/Sulphur Dioxide/2010-2019 Schwefeldioxid NRW Stundenmittelwert.csv\", encoding=\"ISO-8859-1\", sep=';', skiprows=2)\n",
    "\n",
    "# Spaltennamen ab der dritten Spalte ändern\n",
    "df.columns = df.columns[:2].tolist() + [col.split()[0][:4].upper() for col in df.columns[2:]]\n",
    "\n",
    "df.head(50)\n",
    "\n",
    "#output_file_path = \"/Users/carareusch/Desktop/Github Repro/techLabs/Datasets/Raw/AirQuality/Sulphur Dioxide/00-09 Schwefeldioxid.csv\"\n",
    "\n",
    "#df.to_csv(\"/Users/carareusch/Desktop/Github Repro/techLabs/Datasets/Raw/AirQuality/Sulphur Dioxide/00-09 Schwefeldioxid.csv\", index=False)\n",
    "\n"
   ]
  }
 ],
 "metadata": {
  "kernelspec": {
   "display_name": "Python 3",
   "language": "python",
   "name": "python3"
  },
  "language_info": {
   "codemirror_mode": {
    "name": "ipython",
    "version": 3
   },
   "file_extension": ".py",
   "mimetype": "text/x-python",
   "name": "python",
   "nbconvert_exporter": "python",
   "pygments_lexer": "ipython3",
   "version": "3.12.1"
  }
 },
 "nbformat": 4,
 "nbformat_minor": 2
}
